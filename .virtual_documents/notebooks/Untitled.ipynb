import numpy as np
import pandas as pd
from sklearn.ensemble import RandomForestClassifier
import os

# list all files in the input directory
for dirname, _, filenames in os.walk('W:/G-drive/3-Ressource/Kaggle/Titanic/data'):
    for filename in filenames:
        print(os.path.join(dirname, filename))


# Load the train and test datasets
train_data = pd.read_csv("W:/G-drive/3-Ressource/Kaggle/Titanic/data/raw/train.csv")
test_data = pd.read_csv("W:/G-drive/3-Ressource/Kaggle/Titanic/data/raw/test.csv")


# Display the first few rows of the testing dataset
print("Test Data Head")
print(test_data.head())


# Calculate survival rates for women and men
women = train_data[train_data.Sex == 'female']["Survived"]
rate_women = sum(women) / len(women)
print(f"% of women who survived: {rate_women:.2f}")


men = train_data[train_data.Sex == 'male']["Survived"]
rate_men =  sum(men) / len(men)
print(f"% of men who survived : {rate_men:.2f}")


# Features selection and one-hot encoding
features = ["Pclass", "Sex", "SibSp", "Parch"]
X = pd.get_dummies(train_data[features])
X_test = pd.get_dummies(test_data[features])


# Splitting target variable 
y = train_data["Survived"]

# Model training with Random Forest Classifier
model = RandomForestClassifier(n_estimators=100, max_depth=5, random_state=1)
model.fit(X, y)



# Predictions on the test dataset
predictions = model.predict(X_test)

# Convert predictions to DataFrame
predictions_df = pd.DataFrame(predictions.flatten(), columns=['Survived'])

print(type(predictions))
print(predictions.shape)


# Preparing the output dataframe for submission
output = pd.DataFrame({'PassengerId': test_data.PassengerId, 'Survived':predictions_df['Survived'].fillna(0).astype(int)})



# Saving the submission file
output_file_path = "W:/G-drive/3-Ressource/Kaggle/Titanic/data/processed/submission.csv"
output.to_csv(output_file_path, index=False)
print("Your submission was successfully saved!")



